{
  "cells": [
    {
      "cell_type": "markdown",
      "metadata": {
        "id": "view-in-github",
        "colab_type": "text"
      },
      "source": [
        "<a href=\"https://colab.research.google.com/github/runnertyler/MA-Economics/blob/main/P1_P2_Mathews_Tyler_FinalProject.ipynb\" target=\"_parent\"><img src=\"https://colab.research.google.com/assets/colab-badge.svg\" alt=\"Open In Colab\"/></a>"
      ]
    },
    {
      "cell_type": "markdown",
      "source": [
        "# Part I - Data Analysis: Triangular Arbitrage for Cryptocurrency"
      ],
      "metadata": {
        "id": "9HlJZkz4O05O"
      }
    },
    {
      "cell_type": "code",
      "execution_count": 1,
      "metadata": {
        "id": "lIYdn1woOS1n"
      },
      "outputs": [],
      "source": [
        "#import relevant libraries\n",
        "import pandas as pd\n",
        "import numpy as np\n",
        "import matplotlib.pyplot as plt"
      ]
    },
    {
      "cell_type": "code",
      "source": [
        "#import BTC-USD to Pandas dataframe from CSV file\n",
        "btcusd = pd.read_csv(\"https://guoyuanxiong.github.io/teaching/BTC_USD_Bittrex_Historical_Data.csv\")\n",
        "btcusd.head()\n",
        "btcusd.tail()"
      ],
      "metadata": {
        "colab": {
          "base_uri": "https://localhost:8080/",
          "height": 206
        },
        "id": "eNM4pHoUeDKW",
        "outputId": "8ceb9ab3-ab6b-4a4b-c20f-332caf851587"
      },
      "execution_count": 2,
      "outputs": [
        {
          "output_type": "execute_result",
          "data": {
            "text/plain": [
              "             Date    Price     Open     High      Low   Vol. Change %\n",
              "361  Mar 14, 2018  8,189.0  9,130.0  9,332.0  7,937.5  5.99K  -10.57%\n",
              "362  Mar 13, 2018  9,156.9  9,150.4  9,448.0  8,850.0  3.65K    0.07%\n",
              "363  Mar 12, 2018  9,150.4  9,555.0  9,889.1  8,809.2  5.19K   -4.09%\n",
              "364  Mar 11, 2018  9,541.0  8,750.5  9,701.0  8,460.0  4.79K    9.03%\n",
              "365  Mar 10, 2018  8,750.5  9,240.0  9,532.0  8,700.5  4.41K   -5.30%"
            ],
            "text/html": [
              "\n",
              "  <div id=\"df-97e94a84-566a-4972-a31c-d80223b5bf39\">\n",
              "    <div class=\"colab-df-container\">\n",
              "      <div>\n",
              "<style scoped>\n",
              "    .dataframe tbody tr th:only-of-type {\n",
              "        vertical-align: middle;\n",
              "    }\n",
              "\n",
              "    .dataframe tbody tr th {\n",
              "        vertical-align: top;\n",
              "    }\n",
              "\n",
              "    .dataframe thead th {\n",
              "        text-align: right;\n",
              "    }\n",
              "</style>\n",
              "<table border=\"1\" class=\"dataframe\">\n",
              "  <thead>\n",
              "    <tr style=\"text-align: right;\">\n",
              "      <th></th>\n",
              "      <th>Date</th>\n",
              "      <th>Price</th>\n",
              "      <th>Open</th>\n",
              "      <th>High</th>\n",
              "      <th>Low</th>\n",
              "      <th>Vol.</th>\n",
              "      <th>Change %</th>\n",
              "    </tr>\n",
              "  </thead>\n",
              "  <tbody>\n",
              "    <tr>\n",
              "      <th>361</th>\n",
              "      <td>Mar 14, 2018</td>\n",
              "      <td>8,189.0</td>\n",
              "      <td>9,130.0</td>\n",
              "      <td>9,332.0</td>\n",
              "      <td>7,937.5</td>\n",
              "      <td>5.99K</td>\n",
              "      <td>-10.57%</td>\n",
              "    </tr>\n",
              "    <tr>\n",
              "      <th>362</th>\n",
              "      <td>Mar 13, 2018</td>\n",
              "      <td>9,156.9</td>\n",
              "      <td>9,150.4</td>\n",
              "      <td>9,448.0</td>\n",
              "      <td>8,850.0</td>\n",
              "      <td>3.65K</td>\n",
              "      <td>0.07%</td>\n",
              "    </tr>\n",
              "    <tr>\n",
              "      <th>363</th>\n",
              "      <td>Mar 12, 2018</td>\n",
              "      <td>9,150.4</td>\n",
              "      <td>9,555.0</td>\n",
              "      <td>9,889.1</td>\n",
              "      <td>8,809.2</td>\n",
              "      <td>5.19K</td>\n",
              "      <td>-4.09%</td>\n",
              "    </tr>\n",
              "    <tr>\n",
              "      <th>364</th>\n",
              "      <td>Mar 11, 2018</td>\n",
              "      <td>9,541.0</td>\n",
              "      <td>8,750.5</td>\n",
              "      <td>9,701.0</td>\n",
              "      <td>8,460.0</td>\n",
              "      <td>4.79K</td>\n",
              "      <td>9.03%</td>\n",
              "    </tr>\n",
              "    <tr>\n",
              "      <th>365</th>\n",
              "      <td>Mar 10, 2018</td>\n",
              "      <td>8,750.5</td>\n",
              "      <td>9,240.0</td>\n",
              "      <td>9,532.0</td>\n",
              "      <td>8,700.5</td>\n",
              "      <td>4.41K</td>\n",
              "      <td>-5.30%</td>\n",
              "    </tr>\n",
              "  </tbody>\n",
              "</table>\n",
              "</div>\n",
              "      <button class=\"colab-df-convert\" onclick=\"convertToInteractive('df-97e94a84-566a-4972-a31c-d80223b5bf39')\"\n",
              "              title=\"Convert this dataframe to an interactive table.\"\n",
              "              style=\"display:none;\">\n",
              "        \n",
              "  <svg xmlns=\"http://www.w3.org/2000/svg\" height=\"24px\"viewBox=\"0 0 24 24\"\n",
              "       width=\"24px\">\n",
              "    <path d=\"M0 0h24v24H0V0z\" fill=\"none\"/>\n",
              "    <path d=\"M18.56 5.44l.94 2.06.94-2.06 2.06-.94-2.06-.94-.94-2.06-.94 2.06-2.06.94zm-11 1L8.5 8.5l.94-2.06 2.06-.94-2.06-.94L8.5 2.5l-.94 2.06-2.06.94zm10 10l.94 2.06.94-2.06 2.06-.94-2.06-.94-.94-2.06-.94 2.06-2.06.94z\"/><path d=\"M17.41 7.96l-1.37-1.37c-.4-.4-.92-.59-1.43-.59-.52 0-1.04.2-1.43.59L10.3 9.45l-7.72 7.72c-.78.78-.78 2.05 0 2.83L4 21.41c.39.39.9.59 1.41.59.51 0 1.02-.2 1.41-.59l7.78-7.78 2.81-2.81c.8-.78.8-2.07 0-2.86zM5.41 20L4 18.59l7.72-7.72 1.47 1.35L5.41 20z\"/>\n",
              "  </svg>\n",
              "      </button>\n",
              "      \n",
              "  <style>\n",
              "    .colab-df-container {\n",
              "      display:flex;\n",
              "      flex-wrap:wrap;\n",
              "      gap: 12px;\n",
              "    }\n",
              "\n",
              "    .colab-df-convert {\n",
              "      background-color: #E8F0FE;\n",
              "      border: none;\n",
              "      border-radius: 50%;\n",
              "      cursor: pointer;\n",
              "      display: none;\n",
              "      fill: #1967D2;\n",
              "      height: 32px;\n",
              "      padding: 0 0 0 0;\n",
              "      width: 32px;\n",
              "    }\n",
              "\n",
              "    .colab-df-convert:hover {\n",
              "      background-color: #E2EBFA;\n",
              "      box-shadow: 0px 1px 2px rgba(60, 64, 67, 0.3), 0px 1px 3px 1px rgba(60, 64, 67, 0.15);\n",
              "      fill: #174EA6;\n",
              "    }\n",
              "\n",
              "    [theme=dark] .colab-df-convert {\n",
              "      background-color: #3B4455;\n",
              "      fill: #D2E3FC;\n",
              "    }\n",
              "\n",
              "    [theme=dark] .colab-df-convert:hover {\n",
              "      background-color: #434B5C;\n",
              "      box-shadow: 0px 1px 3px 1px rgba(0, 0, 0, 0.15);\n",
              "      filter: drop-shadow(0px 1px 2px rgba(0, 0, 0, 0.3));\n",
              "      fill: #FFFFFF;\n",
              "    }\n",
              "  </style>\n",
              "\n",
              "      <script>\n",
              "        const buttonEl =\n",
              "          document.querySelector('#df-97e94a84-566a-4972-a31c-d80223b5bf39 button.colab-df-convert');\n",
              "        buttonEl.style.display =\n",
              "          google.colab.kernel.accessAllowed ? 'block' : 'none';\n",
              "\n",
              "        async function convertToInteractive(key) {\n",
              "          const element = document.querySelector('#df-97e94a84-566a-4972-a31c-d80223b5bf39');\n",
              "          const dataTable =\n",
              "            await google.colab.kernel.invokeFunction('convertToInteractive',\n",
              "                                                     [key], {});\n",
              "          if (!dataTable) return;\n",
              "\n",
              "          const docLinkHtml = 'Like what you see? Visit the ' +\n",
              "            '<a target=\"_blank\" href=https://colab.research.google.com/notebooks/data_table.ipynb>data table notebook</a>'\n",
              "            + ' to learn more about interactive tables.';\n",
              "          element.innerHTML = '';\n",
              "          dataTable['output_type'] = 'display_data';\n",
              "          await google.colab.output.renderOutput(dataTable, element);\n",
              "          const docLink = document.createElement('div');\n",
              "          docLink.innerHTML = docLinkHtml;\n",
              "          element.appendChild(docLink);\n",
              "        }\n",
              "      </script>\n",
              "    </div>\n",
              "  </div>\n",
              "  "
            ]
          },
          "metadata": {},
          "execution_count": 2
        }
      ]
    },
    {
      "cell_type": "code",
      "source": [
        "#import ETH-USD to Pandas dataframe from CSV file\n",
        "ethusd = pd.read_csv('https://guoyuanxiong.github.io/teaching/ETH_USD_Bittrex_Historical_Data.csv')\n",
        "ethusd.head()"
      ],
      "metadata": {
        "colab": {
          "base_uri": "https://localhost:8080/",
          "height": 206
        },
        "id": "9l2rVjs5eIQi",
        "outputId": "e61c3185-6730-4a72-e537-ec8da758f02f"
      },
      "execution_count": 3,
      "outputs": [
        {
          "output_type": "execute_result",
          "data": {
            "text/plain": [
              "           Date   Price    Open    High     Low   Vol. Change %\n",
              "0  Mar 10, 2019  135.27  137.37  137.50  134.28  1.51K   -1.53%\n",
              "1  Mar 09, 2019  137.37  133.52  138.43  133.17  1.65K    2.88%\n",
              "2  Mar 08, 2019  133.52  136.59  139.16  130.81  4.25K   -2.24%\n",
              "3  Mar 07, 2019  136.59  137.51  139.96  135.29  2.85K   -0.67%\n",
              "4  Mar 06, 2019  137.51  136.77  140.18  133.50  3.94K    0.54%"
            ],
            "text/html": [
              "\n",
              "  <div id=\"df-4d6c19c9-6aef-4b30-8688-1de1798f0190\">\n",
              "    <div class=\"colab-df-container\">\n",
              "      <div>\n",
              "<style scoped>\n",
              "    .dataframe tbody tr th:only-of-type {\n",
              "        vertical-align: middle;\n",
              "    }\n",
              "\n",
              "    .dataframe tbody tr th {\n",
              "        vertical-align: top;\n",
              "    }\n",
              "\n",
              "    .dataframe thead th {\n",
              "        text-align: right;\n",
              "    }\n",
              "</style>\n",
              "<table border=\"1\" class=\"dataframe\">\n",
              "  <thead>\n",
              "    <tr style=\"text-align: right;\">\n",
              "      <th></th>\n",
              "      <th>Date</th>\n",
              "      <th>Price</th>\n",
              "      <th>Open</th>\n",
              "      <th>High</th>\n",
              "      <th>Low</th>\n",
              "      <th>Vol.</th>\n",
              "      <th>Change %</th>\n",
              "    </tr>\n",
              "  </thead>\n",
              "  <tbody>\n",
              "    <tr>\n",
              "      <th>0</th>\n",
              "      <td>Mar 10, 2019</td>\n",
              "      <td>135.27</td>\n",
              "      <td>137.37</td>\n",
              "      <td>137.50</td>\n",
              "      <td>134.28</td>\n",
              "      <td>1.51K</td>\n",
              "      <td>-1.53%</td>\n",
              "    </tr>\n",
              "    <tr>\n",
              "      <th>1</th>\n",
              "      <td>Mar 09, 2019</td>\n",
              "      <td>137.37</td>\n",
              "      <td>133.52</td>\n",
              "      <td>138.43</td>\n",
              "      <td>133.17</td>\n",
              "      <td>1.65K</td>\n",
              "      <td>2.88%</td>\n",
              "    </tr>\n",
              "    <tr>\n",
              "      <th>2</th>\n",
              "      <td>Mar 08, 2019</td>\n",
              "      <td>133.52</td>\n",
              "      <td>136.59</td>\n",
              "      <td>139.16</td>\n",
              "      <td>130.81</td>\n",
              "      <td>4.25K</td>\n",
              "      <td>-2.24%</td>\n",
              "    </tr>\n",
              "    <tr>\n",
              "      <th>3</th>\n",
              "      <td>Mar 07, 2019</td>\n",
              "      <td>136.59</td>\n",
              "      <td>137.51</td>\n",
              "      <td>139.96</td>\n",
              "      <td>135.29</td>\n",
              "      <td>2.85K</td>\n",
              "      <td>-0.67%</td>\n",
              "    </tr>\n",
              "    <tr>\n",
              "      <th>4</th>\n",
              "      <td>Mar 06, 2019</td>\n",
              "      <td>137.51</td>\n",
              "      <td>136.77</td>\n",
              "      <td>140.18</td>\n",
              "      <td>133.50</td>\n",
              "      <td>3.94K</td>\n",
              "      <td>0.54%</td>\n",
              "    </tr>\n",
              "  </tbody>\n",
              "</table>\n",
              "</div>\n",
              "      <button class=\"colab-df-convert\" onclick=\"convertToInteractive('df-4d6c19c9-6aef-4b30-8688-1de1798f0190')\"\n",
              "              title=\"Convert this dataframe to an interactive table.\"\n",
              "              style=\"display:none;\">\n",
              "        \n",
              "  <svg xmlns=\"http://www.w3.org/2000/svg\" height=\"24px\"viewBox=\"0 0 24 24\"\n",
              "       width=\"24px\">\n",
              "    <path d=\"M0 0h24v24H0V0z\" fill=\"none\"/>\n",
              "    <path d=\"M18.56 5.44l.94 2.06.94-2.06 2.06-.94-2.06-.94-.94-2.06-.94 2.06-2.06.94zm-11 1L8.5 8.5l.94-2.06 2.06-.94-2.06-.94L8.5 2.5l-.94 2.06-2.06.94zm10 10l.94 2.06.94-2.06 2.06-.94-2.06-.94-.94-2.06-.94 2.06-2.06.94z\"/><path d=\"M17.41 7.96l-1.37-1.37c-.4-.4-.92-.59-1.43-.59-.52 0-1.04.2-1.43.59L10.3 9.45l-7.72 7.72c-.78.78-.78 2.05 0 2.83L4 21.41c.39.39.9.59 1.41.59.51 0 1.02-.2 1.41-.59l7.78-7.78 2.81-2.81c.8-.78.8-2.07 0-2.86zM5.41 20L4 18.59l7.72-7.72 1.47 1.35L5.41 20z\"/>\n",
              "  </svg>\n",
              "      </button>\n",
              "      \n",
              "  <style>\n",
              "    .colab-df-container {\n",
              "      display:flex;\n",
              "      flex-wrap:wrap;\n",
              "      gap: 12px;\n",
              "    }\n",
              "\n",
              "    .colab-df-convert {\n",
              "      background-color: #E8F0FE;\n",
              "      border: none;\n",
              "      border-radius: 50%;\n",
              "      cursor: pointer;\n",
              "      display: none;\n",
              "      fill: #1967D2;\n",
              "      height: 32px;\n",
              "      padding: 0 0 0 0;\n",
              "      width: 32px;\n",
              "    }\n",
              "\n",
              "    .colab-df-convert:hover {\n",
              "      background-color: #E2EBFA;\n",
              "      box-shadow: 0px 1px 2px rgba(60, 64, 67, 0.3), 0px 1px 3px 1px rgba(60, 64, 67, 0.15);\n",
              "      fill: #174EA6;\n",
              "    }\n",
              "\n",
              "    [theme=dark] .colab-df-convert {\n",
              "      background-color: #3B4455;\n",
              "      fill: #D2E3FC;\n",
              "    }\n",
              "\n",
              "    [theme=dark] .colab-df-convert:hover {\n",
              "      background-color: #434B5C;\n",
              "      box-shadow: 0px 1px 3px 1px rgba(0, 0, 0, 0.15);\n",
              "      filter: drop-shadow(0px 1px 2px rgba(0, 0, 0, 0.3));\n",
              "      fill: #FFFFFF;\n",
              "    }\n",
              "  </style>\n",
              "\n",
              "      <script>\n",
              "        const buttonEl =\n",
              "          document.querySelector('#df-4d6c19c9-6aef-4b30-8688-1de1798f0190 button.colab-df-convert');\n",
              "        buttonEl.style.display =\n",
              "          google.colab.kernel.accessAllowed ? 'block' : 'none';\n",
              "\n",
              "        async function convertToInteractive(key) {\n",
              "          const element = document.querySelector('#df-4d6c19c9-6aef-4b30-8688-1de1798f0190');\n",
              "          const dataTable =\n",
              "            await google.colab.kernel.invokeFunction('convertToInteractive',\n",
              "                                                     [key], {});\n",
              "          if (!dataTable) return;\n",
              "\n",
              "          const docLinkHtml = 'Like what you see? Visit the ' +\n",
              "            '<a target=\"_blank\" href=https://colab.research.google.com/notebooks/data_table.ipynb>data table notebook</a>'\n",
              "            + ' to learn more about interactive tables.';\n",
              "          element.innerHTML = '';\n",
              "          dataTable['output_type'] = 'display_data';\n",
              "          await google.colab.output.renderOutput(dataTable, element);\n",
              "          const docLink = document.createElement('div');\n",
              "          docLink.innerHTML = docLinkHtml;\n",
              "          element.appendChild(docLink);\n",
              "        }\n",
              "      </script>\n",
              "    </div>\n",
              "  </div>\n",
              "  "
            ]
          },
          "metadata": {},
          "execution_count": 3
        }
      ]
    },
    {
      "cell_type": "code",
      "source": [
        "#import ETH-BTC to Pandas dataframe from CSV file\n",
        "ethbtc = pd.read_csv('https://guoyuanxiong.github.io/teaching/ETH_BTC_Bittrex_Historical_Data.csv')\n",
        "ethbtc.head()"
      ],
      "metadata": {
        "colab": {
          "base_uri": "https://localhost:8080/",
          "height": 206
        },
        "id": "Kx-DgztvgKTZ",
        "outputId": "7c64d967-38a8-4330-ac95-9aea85b92275"
      },
      "execution_count": 4,
      "outputs": [
        {
          "output_type": "execute_result",
          "data": {
            "text/plain": [
              "           Date     Price      Open      High       Low    Vol. Change %\n",
              "0  Mar 10, 2019  0.034546  0.034857  0.034952  0.034388   6.04K   -0.90%\n",
              "1  Mar 09, 2019  0.034861  0.034472  0.035375  0.034467   4.99K    0.85%\n",
              "2  Mar 08, 2019  0.034568  0.035256  0.035405  0.034246   9.44K   -1.95%\n",
              "3  Mar 07, 2019  0.035256  0.035610  0.035846  0.035194   9.16K   -0.77%\n",
              "4  Mar 06, 2019  0.035531  0.035432  0.036069  0.034994  11.52K    0.09%"
            ],
            "text/html": [
              "\n",
              "  <div id=\"df-875575fc-6808-4b57-9a0e-00388bc8fb1f\">\n",
              "    <div class=\"colab-df-container\">\n",
              "      <div>\n",
              "<style scoped>\n",
              "    .dataframe tbody tr th:only-of-type {\n",
              "        vertical-align: middle;\n",
              "    }\n",
              "\n",
              "    .dataframe tbody tr th {\n",
              "        vertical-align: top;\n",
              "    }\n",
              "\n",
              "    .dataframe thead th {\n",
              "        text-align: right;\n",
              "    }\n",
              "</style>\n",
              "<table border=\"1\" class=\"dataframe\">\n",
              "  <thead>\n",
              "    <tr style=\"text-align: right;\">\n",
              "      <th></th>\n",
              "      <th>Date</th>\n",
              "      <th>Price</th>\n",
              "      <th>Open</th>\n",
              "      <th>High</th>\n",
              "      <th>Low</th>\n",
              "      <th>Vol.</th>\n",
              "      <th>Change %</th>\n",
              "    </tr>\n",
              "  </thead>\n",
              "  <tbody>\n",
              "    <tr>\n",
              "      <th>0</th>\n",
              "      <td>Mar 10, 2019</td>\n",
              "      <td>0.034546</td>\n",
              "      <td>0.034857</td>\n",
              "      <td>0.034952</td>\n",
              "      <td>0.034388</td>\n",
              "      <td>6.04K</td>\n",
              "      <td>-0.90%</td>\n",
              "    </tr>\n",
              "    <tr>\n",
              "      <th>1</th>\n",
              "      <td>Mar 09, 2019</td>\n",
              "      <td>0.034861</td>\n",
              "      <td>0.034472</td>\n",
              "      <td>0.035375</td>\n",
              "      <td>0.034467</td>\n",
              "      <td>4.99K</td>\n",
              "      <td>0.85%</td>\n",
              "    </tr>\n",
              "    <tr>\n",
              "      <th>2</th>\n",
              "      <td>Mar 08, 2019</td>\n",
              "      <td>0.034568</td>\n",
              "      <td>0.035256</td>\n",
              "      <td>0.035405</td>\n",
              "      <td>0.034246</td>\n",
              "      <td>9.44K</td>\n",
              "      <td>-1.95%</td>\n",
              "    </tr>\n",
              "    <tr>\n",
              "      <th>3</th>\n",
              "      <td>Mar 07, 2019</td>\n",
              "      <td>0.035256</td>\n",
              "      <td>0.035610</td>\n",
              "      <td>0.035846</td>\n",
              "      <td>0.035194</td>\n",
              "      <td>9.16K</td>\n",
              "      <td>-0.77%</td>\n",
              "    </tr>\n",
              "    <tr>\n",
              "      <th>4</th>\n",
              "      <td>Mar 06, 2019</td>\n",
              "      <td>0.035531</td>\n",
              "      <td>0.035432</td>\n",
              "      <td>0.036069</td>\n",
              "      <td>0.034994</td>\n",
              "      <td>11.52K</td>\n",
              "      <td>0.09%</td>\n",
              "    </tr>\n",
              "  </tbody>\n",
              "</table>\n",
              "</div>\n",
              "      <button class=\"colab-df-convert\" onclick=\"convertToInteractive('df-875575fc-6808-4b57-9a0e-00388bc8fb1f')\"\n",
              "              title=\"Convert this dataframe to an interactive table.\"\n",
              "              style=\"display:none;\">\n",
              "        \n",
              "  <svg xmlns=\"http://www.w3.org/2000/svg\" height=\"24px\"viewBox=\"0 0 24 24\"\n",
              "       width=\"24px\">\n",
              "    <path d=\"M0 0h24v24H0V0z\" fill=\"none\"/>\n",
              "    <path d=\"M18.56 5.44l.94 2.06.94-2.06 2.06-.94-2.06-.94-.94-2.06-.94 2.06-2.06.94zm-11 1L8.5 8.5l.94-2.06 2.06-.94-2.06-.94L8.5 2.5l-.94 2.06-2.06.94zm10 10l.94 2.06.94-2.06 2.06-.94-2.06-.94-.94-2.06-.94 2.06-2.06.94z\"/><path d=\"M17.41 7.96l-1.37-1.37c-.4-.4-.92-.59-1.43-.59-.52 0-1.04.2-1.43.59L10.3 9.45l-7.72 7.72c-.78.78-.78 2.05 0 2.83L4 21.41c.39.39.9.59 1.41.59.51 0 1.02-.2 1.41-.59l7.78-7.78 2.81-2.81c.8-.78.8-2.07 0-2.86zM5.41 20L4 18.59l7.72-7.72 1.47 1.35L5.41 20z\"/>\n",
              "  </svg>\n",
              "      </button>\n",
              "      \n",
              "  <style>\n",
              "    .colab-df-container {\n",
              "      display:flex;\n",
              "      flex-wrap:wrap;\n",
              "      gap: 12px;\n",
              "    }\n",
              "\n",
              "    .colab-df-convert {\n",
              "      background-color: #E8F0FE;\n",
              "      border: none;\n",
              "      border-radius: 50%;\n",
              "      cursor: pointer;\n",
              "      display: none;\n",
              "      fill: #1967D2;\n",
              "      height: 32px;\n",
              "      padding: 0 0 0 0;\n",
              "      width: 32px;\n",
              "    }\n",
              "\n",
              "    .colab-df-convert:hover {\n",
              "      background-color: #E2EBFA;\n",
              "      box-shadow: 0px 1px 2px rgba(60, 64, 67, 0.3), 0px 1px 3px 1px rgba(60, 64, 67, 0.15);\n",
              "      fill: #174EA6;\n",
              "    }\n",
              "\n",
              "    [theme=dark] .colab-df-convert {\n",
              "      background-color: #3B4455;\n",
              "      fill: #D2E3FC;\n",
              "    }\n",
              "\n",
              "    [theme=dark] .colab-df-convert:hover {\n",
              "      background-color: #434B5C;\n",
              "      box-shadow: 0px 1px 3px 1px rgba(0, 0, 0, 0.15);\n",
              "      filter: drop-shadow(0px 1px 2px rgba(0, 0, 0, 0.3));\n",
              "      fill: #FFFFFF;\n",
              "    }\n",
              "  </style>\n",
              "\n",
              "      <script>\n",
              "        const buttonEl =\n",
              "          document.querySelector('#df-875575fc-6808-4b57-9a0e-00388bc8fb1f button.colab-df-convert');\n",
              "        buttonEl.style.display =\n",
              "          google.colab.kernel.accessAllowed ? 'block' : 'none';\n",
              "\n",
              "        async function convertToInteractive(key) {\n",
              "          const element = document.querySelector('#df-875575fc-6808-4b57-9a0e-00388bc8fb1f');\n",
              "          const dataTable =\n",
              "            await google.colab.kernel.invokeFunction('convertToInteractive',\n",
              "                                                     [key], {});\n",
              "          if (!dataTable) return;\n",
              "\n",
              "          const docLinkHtml = 'Like what you see? Visit the ' +\n",
              "            '<a target=\"_blank\" href=https://colab.research.google.com/notebooks/data_table.ipynb>data table notebook</a>'\n",
              "            + ' to learn more about interactive tables.';\n",
              "          element.innerHTML = '';\n",
              "          dataTable['output_type'] = 'display_data';\n",
              "          await google.colab.output.renderOutput(dataTable, element);\n",
              "          const docLink = document.createElement('div');\n",
              "          docLink.innerHTML = docLinkHtml;\n",
              "          element.appendChild(docLink);\n",
              "        }\n",
              "      </script>\n",
              "    </div>\n",
              "  </div>\n",
              "  "
            ]
          },
          "metadata": {},
          "execution_count": 4
        }
      ]
    },
    {
      "cell_type": "code",
      "source": [
        "#Create new dataframe containing only date and BTC-USD price\n",
        "df = btcusd[['Date','Price']].copy()\n",
        "#Convert date column to datetime from string\n",
        "df['Date'] = pd.to_datetime(df['Date'])\n",
        "#Rename Price column to BTCUSD to clarify which price\n",
        "df.rename(columns={'Price': 'BTCUSD'}, inplace=True)\n",
        "#Remove commas from BTCUSD price column\n",
        "df.replace(',','', regex=True, inplace=True)\n",
        "c = df.select_dtypes(object).columns\n",
        "df[c] = df[c].apply(pd.to_numeric,errors='coerce')"
      ],
      "metadata": {
        "id": "aPaz2jlmhEP9"
      },
      "execution_count": 5,
      "outputs": []
    },
    {
      "cell_type": "code",
      "source": [
        "#Add ETHUSD and ETHBTC columns to dataframe from respective dataframes\n",
        "df['ETHUSD'] = ethusd.iloc[:,[1]].copy()\n",
        "df['ETHBTC'] = ethbtc.iloc[:,[1]].copy()"
      ],
      "metadata": {
        "id": "lXpxlCO7m-lV"
      },
      "execution_count": null,
      "outputs": []
    },
    {
      "cell_type": "code",
      "source": [
        "#Calculate the derived BTC price from ETHUSD and ETHBTC quotes\n",
        "df['BTCUSD (ETH Deriv)'] = df['ETHUSD']/df['ETHBTC']\n",
        "df.head(100)"
      ],
      "metadata": {
        "id": "tPaaFrwxnBHD",
        "colab": {
          "base_uri": "https://localhost:8080/",
          "height": 424
        },
        "outputId": "947ccd20-3220-44a0-d551-ca1272faaa51"
      },
      "execution_count": null,
      "outputs": [
        {
          "output_type": "execute_result",
          "data": {
            "text/plain": [
              "         Date  BTCUSD  ETHUSD    ETHBTC  BTCUSD (ETH Deriv)\n",
              "0  2019-03-10  3915.3  135.27  0.034546         3915.648700\n",
              "1  2019-03-09  3943.6  137.37  0.034861         3940.506583\n",
              "2  2019-03-08  3870.6  133.52  0.034568         3862.531821\n",
              "3  2019-03-07  3880.5  136.59  0.035256         3874.234173\n",
              "4  2019-03-06  3868.4  137.51  0.035531         3870.141567\n",
              "..        ...     ...     ...       ...                 ...\n",
              "95 2018-12-05  3755.5  102.61  0.027250         3765.504587\n",
              "96 2018-12-04  3951.8  110.08  0.027758         3965.703581\n",
              "97 2018-12-03  3886.4  108.80  0.027981         3888.352811\n",
              "98 2018-12-02  4156.2  116.48  0.028075         4148.886910\n",
              "99 2018-12-01  4196.4  118.40  0.028128         4209.328783\n",
              "\n",
              "[100 rows x 5 columns]"
            ],
            "text/html": [
              "\n",
              "  <div id=\"df-e5ada170-4119-440e-999c-33216dce4f56\">\n",
              "    <div class=\"colab-df-container\">\n",
              "      <div>\n",
              "<style scoped>\n",
              "    .dataframe tbody tr th:only-of-type {\n",
              "        vertical-align: middle;\n",
              "    }\n",
              "\n",
              "    .dataframe tbody tr th {\n",
              "        vertical-align: top;\n",
              "    }\n",
              "\n",
              "    .dataframe thead th {\n",
              "        text-align: right;\n",
              "    }\n",
              "</style>\n",
              "<table border=\"1\" class=\"dataframe\">\n",
              "  <thead>\n",
              "    <tr style=\"text-align: right;\">\n",
              "      <th></th>\n",
              "      <th>Date</th>\n",
              "      <th>BTCUSD</th>\n",
              "      <th>ETHUSD</th>\n",
              "      <th>ETHBTC</th>\n",
              "      <th>BTCUSD (ETH Deriv)</th>\n",
              "    </tr>\n",
              "  </thead>\n",
              "  <tbody>\n",
              "    <tr>\n",
              "      <th>0</th>\n",
              "      <td>2019-03-10</td>\n",
              "      <td>3915.3</td>\n",
              "      <td>135.27</td>\n",
              "      <td>0.034546</td>\n",
              "      <td>3915.648700</td>\n",
              "    </tr>\n",
              "    <tr>\n",
              "      <th>1</th>\n",
              "      <td>2019-03-09</td>\n",
              "      <td>3943.6</td>\n",
              "      <td>137.37</td>\n",
              "      <td>0.034861</td>\n",
              "      <td>3940.506583</td>\n",
              "    </tr>\n",
              "    <tr>\n",
              "      <th>2</th>\n",
              "      <td>2019-03-08</td>\n",
              "      <td>3870.6</td>\n",
              "      <td>133.52</td>\n",
              "      <td>0.034568</td>\n",
              "      <td>3862.531821</td>\n",
              "    </tr>\n",
              "    <tr>\n",
              "      <th>3</th>\n",
              "      <td>2019-03-07</td>\n",
              "      <td>3880.5</td>\n",
              "      <td>136.59</td>\n",
              "      <td>0.035256</td>\n",
              "      <td>3874.234173</td>\n",
              "    </tr>\n",
              "    <tr>\n",
              "      <th>4</th>\n",
              "      <td>2019-03-06</td>\n",
              "      <td>3868.4</td>\n",
              "      <td>137.51</td>\n",
              "      <td>0.035531</td>\n",
              "      <td>3870.141567</td>\n",
              "    </tr>\n",
              "    <tr>\n",
              "      <th>...</th>\n",
              "      <td>...</td>\n",
              "      <td>...</td>\n",
              "      <td>...</td>\n",
              "      <td>...</td>\n",
              "      <td>...</td>\n",
              "    </tr>\n",
              "    <tr>\n",
              "      <th>95</th>\n",
              "      <td>2018-12-05</td>\n",
              "      <td>3755.5</td>\n",
              "      <td>102.61</td>\n",
              "      <td>0.027250</td>\n",
              "      <td>3765.504587</td>\n",
              "    </tr>\n",
              "    <tr>\n",
              "      <th>96</th>\n",
              "      <td>2018-12-04</td>\n",
              "      <td>3951.8</td>\n",
              "      <td>110.08</td>\n",
              "      <td>0.027758</td>\n",
              "      <td>3965.703581</td>\n",
              "    </tr>\n",
              "    <tr>\n",
              "      <th>97</th>\n",
              "      <td>2018-12-03</td>\n",
              "      <td>3886.4</td>\n",
              "      <td>108.80</td>\n",
              "      <td>0.027981</td>\n",
              "      <td>3888.352811</td>\n",
              "    </tr>\n",
              "    <tr>\n",
              "      <th>98</th>\n",
              "      <td>2018-12-02</td>\n",
              "      <td>4156.2</td>\n",
              "      <td>116.48</td>\n",
              "      <td>0.028075</td>\n",
              "      <td>4148.886910</td>\n",
              "    </tr>\n",
              "    <tr>\n",
              "      <th>99</th>\n",
              "      <td>2018-12-01</td>\n",
              "      <td>4196.4</td>\n",
              "      <td>118.40</td>\n",
              "      <td>0.028128</td>\n",
              "      <td>4209.328783</td>\n",
              "    </tr>\n",
              "  </tbody>\n",
              "</table>\n",
              "<p>100 rows × 5 columns</p>\n",
              "</div>\n",
              "      <button class=\"colab-df-convert\" onclick=\"convertToInteractive('df-e5ada170-4119-440e-999c-33216dce4f56')\"\n",
              "              title=\"Convert this dataframe to an interactive table.\"\n",
              "              style=\"display:none;\">\n",
              "        \n",
              "  <svg xmlns=\"http://www.w3.org/2000/svg\" height=\"24px\"viewBox=\"0 0 24 24\"\n",
              "       width=\"24px\">\n",
              "    <path d=\"M0 0h24v24H0V0z\" fill=\"none\"/>\n",
              "    <path d=\"M18.56 5.44l.94 2.06.94-2.06 2.06-.94-2.06-.94-.94-2.06-.94 2.06-2.06.94zm-11 1L8.5 8.5l.94-2.06 2.06-.94-2.06-.94L8.5 2.5l-.94 2.06-2.06.94zm10 10l.94 2.06.94-2.06 2.06-.94-2.06-.94-.94-2.06-.94 2.06-2.06.94z\"/><path d=\"M17.41 7.96l-1.37-1.37c-.4-.4-.92-.59-1.43-.59-.52 0-1.04.2-1.43.59L10.3 9.45l-7.72 7.72c-.78.78-.78 2.05 0 2.83L4 21.41c.39.39.9.59 1.41.59.51 0 1.02-.2 1.41-.59l7.78-7.78 2.81-2.81c.8-.78.8-2.07 0-2.86zM5.41 20L4 18.59l7.72-7.72 1.47 1.35L5.41 20z\"/>\n",
              "  </svg>\n",
              "      </button>\n",
              "      \n",
              "  <style>\n",
              "    .colab-df-container {\n",
              "      display:flex;\n",
              "      flex-wrap:wrap;\n",
              "      gap: 12px;\n",
              "    }\n",
              "\n",
              "    .colab-df-convert {\n",
              "      background-color: #E8F0FE;\n",
              "      border: none;\n",
              "      border-radius: 50%;\n",
              "      cursor: pointer;\n",
              "      display: none;\n",
              "      fill: #1967D2;\n",
              "      height: 32px;\n",
              "      padding: 0 0 0 0;\n",
              "      width: 32px;\n",
              "    }\n",
              "\n",
              "    .colab-df-convert:hover {\n",
              "      background-color: #E2EBFA;\n",
              "      box-shadow: 0px 1px 2px rgba(60, 64, 67, 0.3), 0px 1px 3px 1px rgba(60, 64, 67, 0.15);\n",
              "      fill: #174EA6;\n",
              "    }\n",
              "\n",
              "    [theme=dark] .colab-df-convert {\n",
              "      background-color: #3B4455;\n",
              "      fill: #D2E3FC;\n",
              "    }\n",
              "\n",
              "    [theme=dark] .colab-df-convert:hover {\n",
              "      background-color: #434B5C;\n",
              "      box-shadow: 0px 1px 3px 1px rgba(0, 0, 0, 0.15);\n",
              "      filter: drop-shadow(0px 1px 2px rgba(0, 0, 0, 0.3));\n",
              "      fill: #FFFFFF;\n",
              "    }\n",
              "  </style>\n",
              "\n",
              "      <script>\n",
              "        const buttonEl =\n",
              "          document.querySelector('#df-e5ada170-4119-440e-999c-33216dce4f56 button.colab-df-convert');\n",
              "        buttonEl.style.display =\n",
              "          google.colab.kernel.accessAllowed ? 'block' : 'none';\n",
              "\n",
              "        async function convertToInteractive(key) {\n",
              "          const element = document.querySelector('#df-e5ada170-4119-440e-999c-33216dce4f56');\n",
              "          const dataTable =\n",
              "            await google.colab.kernel.invokeFunction('convertToInteractive',\n",
              "                                                     [key], {});\n",
              "          if (!dataTable) return;\n",
              "\n",
              "          const docLinkHtml = 'Like what you see? Visit the ' +\n",
              "            '<a target=\"_blank\" href=https://colab.research.google.com/notebooks/data_table.ipynb>data table notebook</a>'\n",
              "            + ' to learn more about interactive tables.';\n",
              "          element.innerHTML = '';\n",
              "          dataTable['output_type'] = 'display_data';\n",
              "          await google.colab.output.renderOutput(dataTable, element);\n",
              "          const docLink = document.createElement('div');\n",
              "          docLink.innerHTML = docLinkHtml;\n",
              "          element.appendChild(docLink);\n",
              "        }\n",
              "      </script>\n",
              "    </div>\n",
              "  </div>\n",
              "  "
            ]
          },
          "metadata": {},
          "execution_count": 7
        }
      ]
    },
    {
      "cell_type": "code",
      "source": [
        "df.info()"
      ],
      "metadata": {
        "colab": {
          "base_uri": "https://localhost:8080/"
        },
        "id": "3Wilmjh3stmV",
        "outputId": "31de8b9f-7c30-4f30-9faf-33ef4b108fe9"
      },
      "execution_count": null,
      "outputs": [
        {
          "output_type": "stream",
          "name": "stdout",
          "text": [
            "<class 'pandas.core.frame.DataFrame'>\n",
            "RangeIndex: 366 entries, 0 to 365\n",
            "Data columns (total 5 columns):\n",
            " #   Column              Non-Null Count  Dtype         \n",
            "---  ------              --------------  -----         \n",
            " 0   Date                366 non-null    datetime64[ns]\n",
            " 1   BTCUSD              366 non-null    float64       \n",
            " 2   ETHUSD              366 non-null    float64       \n",
            " 3   ETHBTC              366 non-null    float64       \n",
            " 4   BTCUSD (ETH Deriv)  366 non-null    float64       \n",
            "dtypes: datetime64[ns](1), float64(4)\n",
            "memory usage: 14.4 KB\n"
          ]
        }
      ]
    },
    {
      "cell_type": "code",
      "source": [
        "#Plot observed and derived BTC timeseries \n",
        "plt.plot(df['Date'],df['BTCUSD'], label = \"Observed BTC-USD\")\n",
        "plt.plot(df['Date'],df['BTCUSD (ETH Deriv)'], label = \"Derived BTC-USD (ETH)\")\n",
        "plt.legend()\n",
        "plt.ylabel('Price')\n",
        "\n",
        "plt.show()"
      ],
      "metadata": {
        "id": "7HffjiOknDmr",
        "colab": {
          "base_uri": "https://localhost:8080/",
          "height": 265
        },
        "outputId": "1d82d3ab-1e98-4df8-e410-65178a91ac0a"
      },
      "execution_count": null,
      "outputs": [
        {
          "output_type": "display_data",
          "data": {
            "text/plain": [
              "<Figure size 432x288 with 1 Axes>"
            ],
            "image/png": "[encoded data removed]"
          },
          "metadata": {
            "needs_background": "light"
          }
        }
      ]
    },
    {
      "cell_type": "code",
      "source": [
        "df['Spread (ETH Deriv)'] = df['BTCUSD (ETH Deriv)'] - df['BTCUSD']\n",
        "df"
      ],
      "metadata": {
        "colab": {
          "base_uri": "https://localhost:8080/",
          "height": 424
        },
        "id": "WzhBIsj_qbk9",
        "outputId": "3f7a9280-137e-42a6-e68d-55c95422cbe6"
      },
      "execution_count": null,
      "outputs": [
        {
          "output_type": "execute_result",
          "data": {
            "text/plain": [
              "          Date  BTCUSD  ETHUSD    ETHBTC  BTCUSD (ETH Deriv)  \\\n",
              "0   2019-03-10  3915.3  135.27  0.034546         3915.648700   \n",
              "1   2019-03-09  3943.6  137.37  0.034861         3940.506583   \n",
              "2   2019-03-08  3870.6  133.52  0.034568         3862.531821   \n",
              "3   2019-03-07  3880.5  136.59  0.035256         3874.234173   \n",
              "4   2019-03-06  3868.4  137.51  0.035531         3870.141567   \n",
              "..         ...     ...     ...       ...                 ...   \n",
              "361 2018-03-14  8189.0  610.00  0.074346         8204.879886   \n",
              "362 2018-03-13  9156.9  688.10  0.075410         9124.784511   \n",
              "363 2018-03-12  9150.4  695.70  0.076400         9106.020942   \n",
              "364 2018-03-11  9541.0  722.47  0.075559         9561.667042   \n",
              "365 2018-03-10  8750.5  684.38  0.077900         8785.365854   \n",
              "\n",
              "     Spread (ETH Deriv)  \n",
              "0              0.348700  \n",
              "1             -3.093417  \n",
              "2             -8.068179  \n",
              "3             -6.265827  \n",
              "4              1.741567  \n",
              "..                  ...  \n",
              "361           15.879886  \n",
              "362          -32.115489  \n",
              "363          -44.379058  \n",
              "364           20.667042  \n",
              "365           34.865854  \n",
              "\n",
              "[366 rows x 6 columns]"
            ],
            "text/html": [
              "\n",
              "  <div id=\"df-174911d8-f3aa-432a-a050-d5967c42a119\">\n",
              "    <div class=\"colab-df-container\">\n",
              "      <div>\n",
              "<style scoped>\n",
              "    .dataframe tbody tr th:only-of-type {\n",
              "        vertical-align: middle;\n",
              "    }\n",
              "\n",
              "    .dataframe tbody tr th {\n",
              "        vertical-align: top;\n",
              "    }\n",
              "\n",
              "    .dataframe thead th {\n",
              "        text-align: right;\n",
              "    }\n",
              "</style>\n",
              "<table border=\"1\" class=\"dataframe\">\n",
              "  <thead>\n",
              "    <tr style=\"text-align: right;\">\n",
              "      <th></th>\n",
              "      <th>Date</th>\n",
              "      <th>BTCUSD</th>\n",
              "      <th>ETHUSD</th>\n",
              "      <th>ETHBTC</th>\n",
              "      <th>BTCUSD (ETH Deriv)</th>\n",
              "      <th>Spread (ETH Deriv)</th>\n",
              "    </tr>\n",
              "  </thead>\n",
              "  <tbody>\n",
              "    <tr>\n",
              "      <th>0</th>\n",
              "      <td>2019-03-10</td>\n",
              "      <td>3915.3</td>\n",
              "      <td>135.27</td>\n",
              "      <td>0.034546</td>\n",
              "      <td>3915.648700</td>\n",
              "      <td>0.348700</td>\n",
              "    </tr>\n",
              "    <tr>\n",
              "      <th>1</th>\n",
              "      <td>2019-03-09</td>\n",
              "      <td>3943.6</td>\n",
              "      <td>137.37</td>\n",
              "      <td>0.034861</td>\n",
              "      <td>3940.506583</td>\n",
              "      <td>-3.093417</td>\n",
              "    </tr>\n",
              "    <tr>\n",
              "      <th>2</th>\n",
              "      <td>2019-03-08</td>\n",
              "      <td>3870.6</td>\n",
              "      <td>133.52</td>\n",
              "      <td>0.034568</td>\n",
              "      <td>3862.531821</td>\n",
              "      <td>-8.068179</td>\n",
              "    </tr>\n",
              "    <tr>\n",
              "      <th>3</th>\n",
              "      <td>2019-03-07</td>\n",
              "      <td>3880.5</td>\n",
              "      <td>136.59</td>\n",
              "      <td>0.035256</td>\n",
              "      <td>3874.234173</td>\n",
              "      <td>-6.265827</td>\n",
              "    </tr>\n",
              "    <tr>\n",
              "      <th>4</th>\n",
              "      <td>2019-03-06</td>\n",
              "      <td>3868.4</td>\n",
              "      <td>137.51</td>\n",
              "      <td>0.035531</td>\n",
              "      <td>3870.141567</td>\n",
              "      <td>1.741567</td>\n",
              "    </tr>\n",
              "    <tr>\n",
              "      <th>...</th>\n",
              "      <td>...</td>\n",
              "      <td>...</td>\n",
              "      <td>...</td>\n",
              "      <td>...</td>\n",
              "      <td>...</td>\n",
              "      <td>...</td>\n",
              "    </tr>\n",
              "    <tr>\n",
              "      <th>361</th>\n",
              "      <td>2018-03-14</td>\n",
              "      <td>8189.0</td>\n",
              "      <td>610.00</td>\n",
              "      <td>0.074346</td>\n",
              "      <td>8204.879886</td>\n",
              "      <td>15.879886</td>\n",
              "    </tr>\n",
              "    <tr>\n",
              "      <th>362</th>\n",
              "      <td>2018-03-13</td>\n",
              "      <td>9156.9</td>\n",
              "      <td>688.10</td>\n",
              "      <td>0.075410</td>\n",
              "      <td>9124.784511</td>\n",
              "      <td>-32.115489</td>\n",
              "    </tr>\n",
              "    <tr>\n",
              "      <th>363</th>\n",
              "      <td>2018-03-12</td>\n",
              "      <td>9150.4</td>\n",
              "      <td>695.70</td>\n",
              "      <td>0.076400</td>\n",
              "      <td>9106.020942</td>\n",
              "      <td>-44.379058</td>\n",
              "    </tr>\n",
              "    <tr>\n",
              "      <th>364</th>\n",
              "      <td>2018-03-11</td>\n",
              "      <td>9541.0</td>\n",
              "      <td>722.47</td>\n",
              "      <td>0.075559</td>\n",
              "      <td>9561.667042</td>\n",
              "      <td>20.667042</td>\n",
              "    </tr>\n",
              "    <tr>\n",
              "      <th>365</th>\n",
              "      <td>2018-03-10</td>\n",
              "      <td>8750.5</td>\n",
              "      <td>684.38</td>\n",
              "      <td>0.077900</td>\n",
              "      <td>8785.365854</td>\n",
              "      <td>34.865854</td>\n",
              "    </tr>\n",
              "  </tbody>\n",
              "</table>\n",
              "<p>366 rows × 6 columns</p>\n",
              "</div>\n",
              "      <button class=\"colab-df-convert\" onclick=\"convertToInteractive('df-174911d8-f3aa-432a-a050-d5967c42a119')\"\n",
              "              title=\"Convert this dataframe to an interactive table.\"\n",
              "              style=\"display:none;\">\n",
              "        \n",
              "  <svg xmlns=\"http://www.w3.org/2000/svg\" height=\"24px\"viewBox=\"0 0 24 24\"\n",
              "       width=\"24px\">\n",
              "    <path d=\"M0 0h24v24H0V0z\" fill=\"none\"/>\n",
              "    <path d=\"M18.56 5.44l.94 2.06.94-2.06 2.06-.94-2.06-.94-.94-2.06-.94 2.06-2.06.94zm-11 1L8.5 8.5l.94-2.06 2.06-.94-2.06-.94L8.5 2.5l-.94 2.06-2.06.94zm10 10l.94 2.06.94-2.06 2.06-.94-2.06-.94-.94-2.06-.94 2.06-2.06.94z\"/><path d=\"M17.41 7.96l-1.37-1.37c-.4-.4-.92-.59-1.43-.59-.52 0-1.04.2-1.43.59L10.3 9.45l-7.72 7.72c-.78.78-.78 2.05 0 2.83L4 21.41c.39.39.9.59 1.41.59.51 0 1.02-.2 1.41-.59l7.78-7.78 2.81-2.81c.8-.78.8-2.07 0-2.86zM5.41 20L4 18.59l7.72-7.72 1.47 1.35L5.41 20z\"/>\n",
              "  </svg>\n",
              "      </button>\n",
              "      \n",
              "  <style>\n",
              "    .colab-df-container {\n",
              "      display:flex;\n",
              "      flex-wrap:wrap;\n",
              "      gap: 12px;\n",
              "    }\n",
              "\n",
              "    .colab-df-convert {\n",
              "      background-color: #E8F0FE;\n",
              "      border: none;\n",
              "      border-radius: 50%;\n",
              "      cursor: pointer;\n",
              "      display: none;\n",
              "      fill: #1967D2;\n",
              "      height: 32px;\n",
              "      padding: 0 0 0 0;\n",
              "      width: 32px;\n",
              "    }\n",
              "\n",
              "    .colab-df-convert:hover {\n",
              "      background-color: #E2EBFA;\n",
              "      box-shadow: 0px 1px 2px rgba(60, 64, 67, 0.3), 0px 1px 3px 1px rgba(60, 64, 67, 0.15);\n",
              "      fill: #174EA6;\n",
              "    }\n",
              "\n",
              "    [theme=dark] .colab-df-convert {\n",
              "      background-color: #3B4455;\n",
              "      fill: #D2E3FC;\n",
              "    }\n",
              "\n",
              "    [theme=dark] .colab-df-convert:hover {\n",
              "      background-color: #434B5C;\n",
              "      box-shadow: 0px 1px 3px 1px rgba(0, 0, 0, 0.15);\n",
              "      filter: drop-shadow(0px 1px 2px rgba(0, 0, 0, 0.3));\n",
              "      fill: #FFFFFF;\n",
              "    }\n",
              "  </style>\n",
              "\n",
              "      <script>\n",
              "        const buttonEl =\n",
              "          document.querySelector('#df-174911d8-f3aa-432a-a050-d5967c42a119 button.colab-df-convert');\n",
              "        buttonEl.style.display =\n",
              "          google.colab.kernel.accessAllowed ? 'block' : 'none';\n",
              "\n",
              "        async function convertToInteractive(key) {\n",
              "          const element = document.querySelector('#df-174911d8-f3aa-432a-a050-d5967c42a119');\n",
              "          const dataTable =\n",
              "            await google.colab.kernel.invokeFunction('convertToInteractive',\n",
              "                                                     [key], {});\n",
              "          if (!dataTable) return;\n",
              "\n",
              "          const docLinkHtml = 'Like what you see? Visit the ' +\n",
              "            '<a target=\"_blank\" href=https://colab.research.google.com/notebooks/data_table.ipynb>data table notebook</a>'\n",
              "            + ' to learn more about interactive tables.';\n",
              "          element.innerHTML = '';\n",
              "          dataTable['output_type'] = 'display_data';\n",
              "          await google.colab.output.renderOutput(dataTable, element);\n",
              "          const docLink = document.createElement('div');\n",
              "          docLink.innerHTML = docLinkHtml;\n",
              "          element.appendChild(docLink);\n",
              "        }\n",
              "      </script>\n",
              "    </div>\n",
              "  </div>\n",
              "  "
            ]
          },
          "metadata": {},
          "execution_count": 14
        }
      ]
    },
    {
      "cell_type": "code",
      "source": [
        "plt.plot(df['Date'],df['Spread (ETH Deriv)'])\n",
        "\n",
        "plt.title('Observed vs Derived BTC Price Spread (ETH)')\n",
        "plt.show()"
      ],
      "metadata": {
        "colab": {
          "base_uri": "https://localhost:8080/",
          "height": 281
        },
        "id": "Hn-d-qKQEGf0",
        "outputId": "fbeea74a-dd50-4e74-a542-2c9a1f28207c"
      },
      "execution_count": null,
      "outputs": [
        {
          "output_type": "display_data",
          "data": {
            "text/plain": [
              "<Figure size 432x288 with 1 Axes>"
            ],
            "image/png": "[encoded data removed]"
          },
          "metadata": {
            "needs_background": "light"
          }
        }
      ]
    },
    {
      "cell_type": "code",
      "source": [
        "print('Mean of BTC Spread (ETH Deriv): ' + str(np.mean(df['Spread (ETH Deriv)'])))\n",
        "print('Standard Deviation of BTC Spread (ETH Deriv): ' + str(np.std(df['Spread (ETH Deriv)'])))"
      ],
      "metadata": {
        "colab": {
          "base_uri": "https://localhost:8080/"
        },
        "id": "rMFfn_03Ep6y",
        "outputId": "41c53b79-729a-4cd1-aaf0-1cff58b69821"
      },
      "execution_count": null,
      "outputs": [
        {
          "output_type": "stream",
          "name": "stdout",
          "text": [
            "Mean of BTC Spread (ETH Deriv): 0.35711909087570454\n",
            "Standard Deviation of BTC Spread (ETH Deriv): 22.66120242729311\n"
          ]
        }
      ]
    },
    {
      "cell_type": "code",
      "source": [
        "plt.hist(df['Spread (ETH Deriv)'], bins=100)\n",
        "plt.grid()\n",
        "plt.title('Distribution of BTC Price Spread (ETH)')\n",
        "plt.show()"
      ],
      "metadata": {
        "colab": {
          "base_uri": "https://localhost:8080/",
          "height": 281
        },
        "id": "JFaDz_dwxAXF",
        "outputId": "7d200e14-3969-4906-b24b-9b23519d3eb3"
      },
      "execution_count": null,
      "outputs": [
        {
          "output_type": "display_data",
          "data": {
            "text/plain": [
              "<Figure size 432x288 with 1 Axes>"
            ],
            "image/png": "[encoded data removed]"
          },
          "metadata": {
            "needs_background": "light"
          }
        }
      ]
    },
    {
      "cell_type": "code",
      "source": [
        "#import LTC-USD data\n",
        "ltcusd = pd.read_csv('https://guoyuanxiong.github.io/teaching/LTC_USD_Bittrex_Historical_Data.csv')\n",
        "ltcusd.head()"
      ],
      "metadata": {
        "colab": {
          "base_uri": "https://localhost:8080/",
          "height": 206
        },
        "id": "AnZmSxqlyhum",
        "outputId": "9fcb78a5-0cb1-4412-b9a0-2a3e681b05c5"
      },
      "execution_count": null,
      "outputs": [
        {
          "output_type": "execute_result",
          "data": {
            "text/plain": [
              "           Date   Price    Open    High     Low   Vol. Change %\n",
              "0  Mar 10, 2019  56.700  57.610  57.990  56.000  0.62K   -1.58%\n",
              "1  Mar 09, 2019  57.610  55.600  59.453  55.600  2.28K    3.62%\n",
              "2  Mar 08, 2019  55.600  56.790  57.505  54.550  3.48K   -2.10%\n",
              "3  Mar 07, 2019  56.790  55.614  59.000  54.005  5.85K    1.90%\n",
              "4  Mar 06, 2019  55.731  52.807  56.500  51.203  2.64K    5.54%"
            ],
            "text/html": [
              "\n",
              "  <div id=\"df-cb23fee8-de9a-48c9-8a7c-99318b9c167d\">\n",
              "    <div class=\"colab-df-container\">\n",
              "      <div>\n",
              "<style scoped>\n",
              "    .dataframe tbody tr th:only-of-type {\n",
              "        vertical-align: middle;\n",
              "    }\n",
              "\n",
              "    .dataframe tbody tr th {\n",
              "        vertical-align: top;\n",
              "    }\n",
              "\n",
              "    .dataframe thead th {\n",
              "        text-align: right;\n",
              "    }\n",
              "</style>\n",
              "<table border=\"1\" class=\"dataframe\">\n",
              "  <thead>\n",
              "    <tr style=\"text-align: right;\">\n",
              "      <th></th>\n",
              "      <th>Date</th>\n",
              "      <th>Price</th>\n",
              "      <th>Open</th>\n",
              "      <th>High</th>\n",
              "      <th>Low</th>\n",
              "      <th>Vol.</th>\n",
              "      <th>Change %</th>\n",
              "    </tr>\n",
              "  </thead>\n",
              "  <tbody>\n",
              "    <tr>\n",
              "      <th>0</th>\n",
              "      <td>Mar 10, 2019</td>\n",
              "      <td>56.700</td>\n",
              "      <td>57.610</td>\n",
              "      <td>57.990</td>\n",
              "      <td>56.000</td>\n",
              "      <td>0.62K</td>\n",
              "      <td>-1.58%</td>\n",
              "    </tr>\n",
              "    <tr>\n",
              "      <th>1</th>\n",
              "      <td>Mar 09, 2019</td>\n",
              "      <td>57.610</td>\n",
              "      <td>55.600</td>\n",
              "      <td>59.453</td>\n",
              "      <td>55.600</td>\n",
              "      <td>2.28K</td>\n",
              "      <td>3.62%</td>\n",
              "    </tr>\n",
              "    <tr>\n",
              "      <th>2</th>\n",
              "      <td>Mar 08, 2019</td>\n",
              "      <td>55.600</td>\n",
              "      <td>56.790</td>\n",
              "      <td>57.505</td>\n",
              "      <td>54.550</td>\n",
              "      <td>3.48K</td>\n",
              "      <td>-2.10%</td>\n",
              "    </tr>\n",
              "    <tr>\n",
              "      <th>3</th>\n",
              "      <td>Mar 07, 2019</td>\n",
              "      <td>56.790</td>\n",
              "      <td>55.614</td>\n",
              "      <td>59.000</td>\n",
              "      <td>54.005</td>\n",
              "      <td>5.85K</td>\n",
              "      <td>1.90%</td>\n",
              "    </tr>\n",
              "    <tr>\n",
              "      <th>4</th>\n",
              "      <td>Mar 06, 2019</td>\n",
              "      <td>55.731</td>\n",
              "      <td>52.807</td>\n",
              "      <td>56.500</td>\n",
              "      <td>51.203</td>\n",
              "      <td>2.64K</td>\n",
              "      <td>5.54%</td>\n",
              "    </tr>\n",
              "  </tbody>\n",
              "</table>\n",
              "</div>\n",
              "      <button class=\"colab-df-convert\" onclick=\"convertToInteractive('df-cb23fee8-de9a-48c9-8a7c-99318b9c167d')\"\n",
              "              title=\"Convert this dataframe to an interactive table.\"\n",
              "              style=\"display:none;\">\n",
              "        \n",
              "  <svg xmlns=\"http://www.w3.org/2000/svg\" height=\"24px\"viewBox=\"0 0 24 24\"\n",
              "       width=\"24px\">\n",
              "    <path d=\"M0 0h24v24H0V0z\" fill=\"none\"/>\n",
              "    <path d=\"M18.56 5.44l.94 2.06.94-2.06 2.06-.94-2.06-.94-.94-2.06-.94 2.06-2.06.94zm-11 1L8.5 8.5l.94-2.06 2.06-.94-2.06-.94L8.5 2.5l-.94 2.06-2.06.94zm10 10l.94 2.06.94-2.06 2.06-.94-2.06-.94-.94-2.06-.94 2.06-2.06.94z\"/><path d=\"M17.41 7.96l-1.37-1.37c-.4-.4-.92-.59-1.43-.59-.52 0-1.04.2-1.43.59L10.3 9.45l-7.72 7.72c-.78.78-.78 2.05 0 2.83L4 21.41c.39.39.9.59 1.41.59.51 0 1.02-.2 1.41-.59l7.78-7.78 2.81-2.81c.8-.78.8-2.07 0-2.86zM5.41 20L4 18.59l7.72-7.72 1.47 1.35L5.41 20z\"/>\n",
              "  </svg>\n",
              "      </button>\n",
              "      \n",
              "  <style>\n",
              "    .colab-df-container {\n",
              "      display:flex;\n",
              "      flex-wrap:wrap;\n",
              "      gap: 12px;\n",
              "    }\n",
              "\n",
              "    .colab-df-convert {\n",
              "      background-color: #E8F0FE;\n",
              "      border: none;\n",
              "      border-radius: 50%;\n",
              "      cursor: pointer;\n",
              "      display: none;\n",
              "      fill: #1967D2;\n",
              "      height: 32px;\n",
              "      padding: 0 0 0 0;\n",
              "      width: 32px;\n",
              "    }\n",
              "\n",
              "    .colab-df-convert:hover {\n",
              "      background-color: #E2EBFA;\n",
              "      box-shadow: 0px 1px 2px rgba(60, 64, 67, 0.3), 0px 1px 3px 1px rgba(60, 64, 67, 0.15);\n",
              "      fill: #174EA6;\n",
              "    }\n",
              "\n",
              "    [theme=dark] .colab-df-convert {\n",
              "      background-color: #3B4455;\n",
              "      fill: #D2E3FC;\n",
              "    }\n",
              "\n",
              "    [theme=dark] .colab-df-convert:hover {\n",
              "      background-color: #434B5C;\n",
              "      box-shadow: 0px 1px 3px 1px rgba(0, 0, 0, 0.15);\n",
              "      filter: drop-shadow(0px 1px 2px rgba(0, 0, 0, 0.3));\n",
              "      fill: #FFFFFF;\n",
              "    }\n",
              "  </style>\n",
              "\n",
              "      <script>\n",
              "        const buttonEl =\n",
              "          document.querySelector('#df-cb23fee8-de9a-48c9-8a7c-99318b9c167d button.colab-df-convert');\n",
              "        buttonEl.style.display =\n",
              "          google.colab.kernel.accessAllowed ? 'block' : 'none';\n",
              "\n",
              "        async function convertToInteractive(key) {\n",
              "          const element = document.querySelector('#df-cb23fee8-de9a-48c9-8a7c-99318b9c167d');\n",
              "          const dataTable =\n",
              "            await google.colab.kernel.invokeFunction('convertToInteractive',\n",
              "                                                     [key], {});\n",
              "          if (!dataTable) return;\n",
              "\n",
              "          const docLinkHtml = 'Like what you see? Visit the ' +\n",
              "            '<a target=\"_blank\" href=https://colab.research.google.com/notebooks/data_table.ipynb>data table notebook</a>'\n",
              "            + ' to learn more about interactive tables.';\n",
              "          element.innerHTML = '';\n",
              "          dataTable['output_type'] = 'display_data';\n",
              "          await google.colab.output.renderOutput(dataTable, element);\n",
              "          const docLink = document.createElement('div');\n",
              "          docLink.innerHTML = docLinkHtml;\n",
              "          element.appendChild(docLink);\n",
              "        }\n",
              "      </script>\n",
              "    </div>\n",
              "  </div>\n",
              "  "
            ]
          },
          "metadata": {},
          "execution_count": 18
        }
      ]
    },
    {
      "cell_type": "code",
      "source": [
        "#import LTC-BTC data\n",
        "ltcbtc = pd.read_csv('https://guoyuanxiong.github.io/teaching/LTC_BTC_Bittrex_Historical_Data.csv')"
      ],
      "metadata": {
        "id": "wlaB8vReJWK8"
      },
      "execution_count": null,
      "outputs": []
    },
    {
      "cell_type": "code",
      "source": [
        "#add LTC-USD and LTC-BTC price data into existing dataframe\n",
        "df['LTCUSD'] = ltcusd['Price']\n",
        "df['LTCBTC'] = ltcbtc['Price']"
      ],
      "metadata": {
        "id": "eXuE_XWAJeXQ"
      },
      "execution_count": null,
      "outputs": []
    },
    {
      "cell_type": "code",
      "source": [
        "#Calculate derived BTC-USD using Litecoin price data\n",
        "df['BTCUSD (LTC Deriv)'] = df['LTCUSD']/df['LTCBTC']\n",
        "df"
      ],
      "metadata": {
        "colab": {
          "base_uri": "https://localhost:8080/",
          "height": 424
        },
        "id": "g-ZuhHoPKY16",
        "outputId": "403710c7-b86e-457e-ec01-550e12d786a4"
      },
      "execution_count": null,
      "outputs": [
        {
          "output_type": "execute_result",
          "data": {
            "text/plain": [
              "          Date  BTCUSD  ETHUSD    ETHBTC  BTCUSD (ETH Deriv)  \\\n",
              "0   2019-03-10  3915.3  135.27  0.034546         3915.648700   \n",
              "1   2019-03-09  3943.6  137.37  0.034861         3940.506583   \n",
              "2   2019-03-08  3870.6  133.52  0.034568         3862.531821   \n",
              "3   2019-03-07  3880.5  136.59  0.035256         3874.234173   \n",
              "4   2019-03-06  3868.4  137.51  0.035531         3870.141567   \n",
              "..         ...     ...     ...       ...                 ...   \n",
              "361 2018-03-14  8189.0  610.00  0.074346         8204.879886   \n",
              "362 2018-03-13  9156.9  688.10  0.075410         9124.784511   \n",
              "363 2018-03-12  9150.4  695.70  0.076400         9106.020942   \n",
              "364 2018-03-11  9541.0  722.47  0.075559         9561.667042   \n",
              "365 2018-03-10  8750.5  684.38  0.077900         8785.365854   \n",
              "\n",
              "     Spread (ETH Deriv)   LTCUSD    LTCBTC  BTCUSD (LTC Deriv)  \n",
              "0              0.348700   56.700  0.014436         3927.680798  \n",
              "1             -3.093417   57.610  0.014640         3935.109290  \n",
              "2             -8.068179   55.600  0.014424         3854.686633  \n",
              "3             -6.265827   56.790  0.014613         3886.265654  \n",
              "4              1.741567   55.731  0.014340         3886.401674  \n",
              "..                  ...      ...       ...                 ...  \n",
              "361           15.879886  161.000  0.019480         8264.887064  \n",
              "362          -32.115489  175.011  0.019190         9119.906201  \n",
              "363          -44.379058  178.234  0.019527         9127.566959  \n",
              "364           20.667042  189.907  0.019620         9679.255861  \n",
              "365           34.865854  177.572  0.020110         8830.034809  \n",
              "\n",
              "[366 rows x 9 columns]"
            ],
            "text/html": [
              "\n",
              "  <div id=\"df-3730b09b-9df4-4579-a328-1e4020425243\">\n",
              "    <div class=\"colab-df-container\">\n",
              "      <div>\n",
              "<style scoped>\n",
              "    .dataframe tbody tr th:only-of-type {\n",
              "        vertical-align: middle;\n",
              "    }\n",
              "\n",
              "    .dataframe tbody tr th {\n",
              "        vertical-align: top;\n",
              "    }\n",
              "\n",
              "    .dataframe thead th {\n",
              "        text-align: right;\n",
              "    }\n",
              "</style>\n",
              "<table border=\"1\" class=\"dataframe\">\n",
              "  <thead>\n",
              "    <tr style=\"text-align: right;\">\n",
              "      <th></th>\n",
              "      <th>Date</th>\n",
              "      <th>BTCUSD</th>\n",
              "      <th>ETHUSD</th>\n",
              "      <th>ETHBTC</th>\n",
              "      <th>BTCUSD (ETH Deriv)</th>\n",
              "      <th>Spread (ETH Deriv)</th>\n",
              "      <th>LTCUSD</th>\n",
              "      <th>LTCBTC</th>\n",
              "      <th>BTCUSD (LTC Deriv)</th>\n",
              "    </tr>\n",
              "  </thead>\n",
              "  <tbody>\n",
              "    <tr>\n",
              "      <th>0</th>\n",
              "      <td>2019-03-10</td>\n",
              "      <td>3915.3</td>\n",
              "      <td>135.27</td>\n",
              "      <td>0.034546</td>\n",
              "      <td>3915.648700</td>\n",
              "      <td>0.348700</td>\n",
              "      <td>56.700</td>\n",
              "      <td>0.014436</td>\n",
              "      <td>3927.680798</td>\n",
              "    </tr>\n",
              "    <tr>\n",
              "      <th>1</th>\n",
              "      <td>2019-03-09</td>\n",
              "      <td>3943.6</td>\n",
              "      <td>137.37</td>\n",
              "      <td>0.034861</td>\n",
              "      <td>3940.506583</td>\n",
              "      <td>-3.093417</td>\n",
              "      <td>57.610</td>\n",
              "      <td>0.014640</td>\n",
              "      <td>3935.109290</td>\n",
              "    </tr>\n",
              "    <tr>\n",
              "      <th>2</th>\n",
              "      <td>2019-03-08</td>\n",
              "      <td>3870.6</td>\n",
              "      <td>133.52</td>\n",
              "      <td>0.034568</td>\n",
              "      <td>3862.531821</td>\n",
              "      <td>-8.068179</td>\n",
              "      <td>55.600</td>\n",
              "      <td>0.014424</td>\n",
              "      <td>3854.686633</td>\n",
              "    </tr>\n",
              "    <tr>\n",
              "      <th>3</th>\n",
              "      <td>2019-03-07</td>\n",
              "      <td>3880.5</td>\n",
              "      <td>136.59</td>\n",
              "      <td>0.035256</td>\n",
              "      <td>3874.234173</td>\n",
              "      <td>-6.265827</td>\n",
              "      <td>56.790</td>\n",
              "      <td>0.014613</td>\n",
              "      <td>3886.265654</td>\n",
              "    </tr>\n",
              "    <tr>\n",
              "      <th>4</th>\n",
              "      <td>2019-03-06</td>\n",
              "      <td>3868.4</td>\n",
              "      <td>137.51</td>\n",
              "      <td>0.035531</td>\n",
              "      <td>3870.141567</td>\n",
              "      <td>1.741567</td>\n",
              "      <td>55.731</td>\n",
              "      <td>0.014340</td>\n",
              "      <td>3886.401674</td>\n",
              "    </tr>\n",
              "    <tr>\n",
              "      <th>...</th>\n",
              "      <td>...</td>\n",
              "      <td>...</td>\n",
              "      <td>...</td>\n",
              "      <td>...</td>\n",
              "      <td>...</td>\n",
              "      <td>...</td>\n",
              "      <td>...</td>\n",
              "      <td>...</td>\n",
              "      <td>...</td>\n",
              "    </tr>\n",
              "    <tr>\n",
              "      <th>361</th>\n",
              "      <td>2018-03-14</td>\n",
              "      <td>8189.0</td>\n",
              "      <td>610.00</td>\n",
              "      <td>0.074346</td>\n",
              "      <td>8204.879886</td>\n",
              "      <td>15.879886</td>\n",
              "      <td>161.000</td>\n",
              "      <td>0.019480</td>\n",
              "      <td>8264.887064</td>\n",
              "    </tr>\n",
              "    <tr>\n",
              "      <th>362</th>\n",
              "      <td>2018-03-13</td>\n",
              "      <td>9156.9</td>\n",
              "      <td>688.10</td>\n",
              "      <td>0.075410</td>\n",
              "      <td>9124.784511</td>\n",
              "      <td>-32.115489</td>\n",
              "      <td>175.011</td>\n",
              "      <td>0.019190</td>\n",
              "      <td>9119.906201</td>\n",
              "    </tr>\n",
              "    <tr>\n",
              "      <th>363</th>\n",
              "      <td>2018-03-12</td>\n",
              "      <td>9150.4</td>\n",
              "      <td>695.70</td>\n",
              "      <td>0.076400</td>\n",
              "      <td>9106.020942</td>\n",
              "      <td>-44.379058</td>\n",
              "      <td>178.234</td>\n",
              "      <td>0.019527</td>\n",
              "      <td>9127.566959</td>\n",
              "    </tr>\n",
              "    <tr>\n",
              "      <th>364</th>\n",
              "      <td>2018-03-11</td>\n",
              "      <td>9541.0</td>\n",
              "      <td>722.47</td>\n",
              "      <td>0.075559</td>\n",
              "      <td>9561.667042</td>\n",
              "      <td>20.667042</td>\n",
              "      <td>189.907</td>\n",
              "      <td>0.019620</td>\n",
              "      <td>9679.255861</td>\n",
              "    </tr>\n",
              "    <tr>\n",
              "      <th>365</th>\n",
              "      <td>2018-03-10</td>\n",
              "      <td>8750.5</td>\n",
              "      <td>684.38</td>\n",
              "      <td>0.077900</td>\n",
              "      <td>8785.365854</td>\n",
              "      <td>34.865854</td>\n",
              "      <td>177.572</td>\n",
              "      <td>0.020110</td>\n",
              "      <td>8830.034809</td>\n",
              "    </tr>\n",
              "  </tbody>\n",
              "</table>\n",
              "<p>366 rows × 9 columns</p>\n",
              "</div>\n",
              "      <button class=\"colab-df-convert\" onclick=\"convertToInteractive('df-3730b09b-9df4-4579-a328-1e4020425243')\"\n",
              "              title=\"Convert this dataframe to an interactive table.\"\n",
              "              style=\"display:none;\">\n",
              "        \n",
              "  <svg xmlns=\"http://www.w3.org/2000/svg\" height=\"24px\"viewBox=\"0 0 24 24\"\n",
              "       width=\"24px\">\n",
              "    <path d=\"M0 0h24v24H0V0z\" fill=\"none\"/>\n",
              "    <path d=\"M18.56 5.44l.94 2.06.94-2.06 2.06-.94-2.06-.94-.94-2.06-.94 2.06-2.06.94zm-11 1L8.5 8.5l.94-2.06 2.06-.94-2.06-.94L8.5 2.5l-.94 2.06-2.06.94zm10 10l.94 2.06.94-2.06 2.06-.94-2.06-.94-.94-2.06-.94 2.06-2.06.94z\"/><path d=\"M17.41 7.96l-1.37-1.37c-.4-.4-.92-.59-1.43-.59-.52 0-1.04.2-1.43.59L10.3 9.45l-7.72 7.72c-.78.78-.78 2.05 0 2.83L4 21.41c.39.39.9.59 1.41.59.51 0 1.02-.2 1.41-.59l7.78-7.78 2.81-2.81c.8-.78.8-2.07 0-2.86zM5.41 20L4 18.59l7.72-7.72 1.47 1.35L5.41 20z\"/>\n",
              "  </svg>\n",
              "      </button>\n",
              "      \n",
              "  <style>\n",
              "    .colab-df-container {\n",
              "      display:flex;\n",
              "      flex-wrap:wrap;\n",
              "      gap: 12px;\n",
              "    }\n",
              "\n",
              "    .colab-df-convert {\n",
              "      background-color: #E8F0FE;\n",
              "      border: none;\n",
              "      border-radius: 50%;\n",
              "      cursor: pointer;\n",
              "      display: none;\n",
              "      fill: #1967D2;\n",
              "      height: 32px;\n",
              "      padding: 0 0 0 0;\n",
              "      width: 32px;\n",
              "    }\n",
              "\n",
              "    .colab-df-convert:hover {\n",
              "      background-color: #E2EBFA;\n",
              "      box-shadow: 0px 1px 2px rgba(60, 64, 67, 0.3), 0px 1px 3px 1px rgba(60, 64, 67, 0.15);\n",
              "      fill: #174EA6;\n",
              "    }\n",
              "\n",
              "    [theme=dark] .colab-df-convert {\n",
              "      background-color: #3B4455;\n",
              "      fill: #D2E3FC;\n",
              "    }\n",
              "\n",
              "    [theme=dark] .colab-df-convert:hover {\n",
              "      background-color: #434B5C;\n",
              "      box-shadow: 0px 1px 3px 1px rgba(0, 0, 0, 0.15);\n",
              "      filter: drop-shadow(0px 1px 2px rgba(0, 0, 0, 0.3));\n",
              "      fill: #FFFFFF;\n",
              "    }\n",
              "  </style>\n",
              "\n",
              "      <script>\n",
              "        const buttonEl =\n",
              "          document.querySelector('#df-3730b09b-9df4-4579-a328-1e4020425243 button.colab-df-convert');\n",
              "        buttonEl.style.display =\n",
              "          google.colab.kernel.accessAllowed ? 'block' : 'none';\n",
              "\n",
              "        async function convertToInteractive(key) {\n",
              "          const element = document.querySelector('#df-3730b09b-9df4-4579-a328-1e4020425243');\n",
              "          const dataTable =\n",
              "            await google.colab.kernel.invokeFunction('convertToInteractive',\n",
              "                                                     [key], {});\n",
              "          if (!dataTable) return;\n",
              "\n",
              "          const docLinkHtml = 'Like what you see? Visit the ' +\n",
              "            '<a target=\"_blank\" href=https://colab.research.google.com/notebooks/data_table.ipynb>data table notebook</a>'\n",
              "            + ' to learn more about interactive tables.';\n",
              "          element.innerHTML = '';\n",
              "          dataTable['output_type'] = 'display_data';\n",
              "          await google.colab.output.renderOutput(dataTable, element);\n",
              "          const docLink = document.createElement('div');\n",
              "          docLink.innerHTML = docLinkHtml;\n",
              "          element.appendChild(docLink);\n",
              "        }\n",
              "      </script>\n",
              "    </div>\n",
              "  </div>\n",
              "  "
            ]
          },
          "metadata": {},
          "execution_count": 21
        }
      ]
    },
    {
      "cell_type": "code",
      "source": [
        "#Plot the observed and derived BTC-USD prices using LTC data\n",
        "plt.plot(df['Date'],df['BTCUSD'], label='Observed BTC-USD')\n",
        "plt.plot(df['Date'],df['BTCUSD (LTC Deriv)'], label='Derived BTC-USD (LTC)', c='r')\n",
        "plt.legend()\n",
        "plt.show()"
      ],
      "metadata": {
        "colab": {
          "base_uri": "https://localhost:8080/",
          "height": 265
        },
        "id": "aNwAjntfKZtq",
        "outputId": "a1d7d780-55a5-4537-fc6f-775735dc864d"
      },
      "execution_count": null,
      "outputs": [
        {
          "output_type": "display_data",
          "data": {
            "text/plain": [
              "<Figure size 432x288 with 1 Axes>"
            ],
            "image/png": "[encoded data removed]"
          },
          "metadata": {
            "needs_background": "light"
          }
        }
      ]
    },
    {
      "cell_type": "code",
      "source": [
        "#Calculate and plot spread between observed and derived BTC-USD using LTC data\n",
        "df['Spread (LTC Deriv)'] =  df['BTCUSD (LTC Deriv)'] - df['BTCUSD']\n",
        "plt.plot(df['Date'], df['Spread (LTC Deriv)'])\n",
        "plt.title('Observed vs Derived BTC Price Spread (LTC)')\n",
        "plt.show()"
      ],
      "metadata": {
        "colab": {
          "base_uri": "https://localhost:8080/",
          "height": 281
        },
        "id": "SRoHuhxBL1xE",
        "outputId": "b4533c28-8062-495b-cf4d-20441e9fe4f4"
      },
      "execution_count": null,
      "outputs": [
        {
          "output_type": "display_data",
          "data": {
            "text/plain": [
              "<Figure size 432x288 with 1 Axes>"
            ],
            "image/png": "[encoded data removed]"
          },
          "metadata": {
            "needs_background": "light"
          }
        }
      ]
    },
    {
      "cell_type": "code",
      "source": [
        "print('Mean of BTC Spread (LTC Deriv): ' + str(np.mean(df['Spread (LTC Deriv)'])))\n",
        "print('Standard Deviation of BTC Spread (ETH Deriv): ' + str(np.std(df['Spread (LTC Deriv)'])))"
      ],
      "metadata": {
        "colab": {
          "base_uri": "https://localhost:8080/"
        },
        "id": "4d6VJpOxMHwf",
        "outputId": "350aa319-542e-45f2-ceb3-ea93ea11b355"
      },
      "execution_count": null,
      "outputs": [
        {
          "output_type": "stream",
          "name": "stdout",
          "text": [
            "Mean of BTC Spread (LTC Deriv): 5.214729311040573\n",
            "Standard Deviation of BTC Spread (ETH Deriv): 29.886150373338175\n"
          ]
        }
      ]
    },
    {
      "cell_type": "code",
      "source": [
        "plt.hist(df['Spread (LTC Deriv)'], bins=100)\n",
        "plt.grid()\n",
        "plt.title('Distribution of BTC Price Spread (LTC)')\n",
        "plt.show()"
      ],
      "metadata": {
        "colab": {
          "base_uri": "https://localhost:8080/",
          "height": 281
        },
        "id": "eOI8JRH_MlRx",
        "outputId": "10d85d8a-c1ed-42d2-b031-23840966e2df"
      },
      "execution_count": null,
      "outputs": [
        {
          "output_type": "display_data",
          "data": {
            "text/plain": [
              "<Figure size 432x288 with 1 Axes>"
            ],
            "image/png": "[encoded data removed]"
          },
          "metadata": {
            "needs_background": "light"
          }
        }
      ]
    },
    {
      "cell_type": "code",
      "source": [
        ""
      ],
      "metadata": {
        "id": "fW8idGYPM6xJ"
      },
      "execution_count": null,
      "outputs": []
    },
    {
      "cell_type": "markdown",
      "source": [
        "# Part II - Logistic Modeling"
      ],
      "metadata": {
        "id": "3R2Lo6dePCYS"
      }
    },
    {
      "cell_type": "code",
      "source": [
        "grad_df = pd.read_csv('https://guoyuanxiong.github.io/teaching/Graduate_School_Admission.csv')\n",
        "grad_df.describe()"
      ],
      "metadata": {
        "colab": {
          "base_uri": "https://localhost:8080/",
          "height": 300
        },
        "id": "c4I8pp6iPHcn",
        "outputId": "c72a9cd2-f52b-4527-e192-8122cf785092"
      },
      "execution_count": null,
      "outputs": [
        {
          "output_type": "execute_result",
          "data": {
            "text/plain": [
              "            admit         gre         gpa       rank\n",
              "count  400.000000  400.000000  400.000000  400.00000\n",
              "mean     0.317500  587.700000    3.389900    2.48500\n",
              "std      0.466087  115.516536    0.380567    0.94446\n",
              "min      0.000000  220.000000    2.260000    1.00000\n",
              "25%      0.000000  520.000000    3.130000    2.00000\n",
              "50%      0.000000  580.000000    3.395000    2.00000\n",
              "75%      1.000000  660.000000    3.670000    3.00000\n",
              "max      1.000000  800.000000    4.000000    4.00000"
            ],
            "text/html": [
              "\n",
              "  <div id=\"df-b24afa53-e5b5-4231-9f89-5a425016b962\">\n",
              "    <div class=\"colab-df-container\">\n",
              "      <div>\n",
              "<style scoped>\n",
              "    .dataframe tbody tr th:only-of-type {\n",
              "        vertical-align: middle;\n",
              "    }\n",
              "\n",
              "    .dataframe tbody tr th {\n",
              "        vertical-align: top;\n",
              "    }\n",
              "\n",
              "    .dataframe thead th {\n",
              "        text-align: right;\n",
              "    }\n",
              "</style>\n",
              "<table border=\"1\" class=\"dataframe\">\n",
              "  <thead>\n",
              "    <tr style=\"text-align: right;\">\n",
              "      <th></th>\n",
              "      <th>admit</th>\n",
              "      <th>gre</th>\n",
              "      <th>gpa</th>\n",
              "      <th>rank</th>\n",
              "    </tr>\n",
              "  </thead>\n",
              "  <tbody>\n",
              "    <tr>\n",
              "      <th>count</th>\n",
              "      <td>400.000000</td>\n",
              "      <td>400.000000</td>\n",
              "      <td>400.000000</td>\n",
              "      <td>400.00000</td>\n",
              "    </tr>\n",
              "    <tr>\n",
              "      <th>mean</th>\n",
              "      <td>0.317500</td>\n",
              "      <td>587.700000</td>\n",
              "      <td>3.389900</td>\n",
              "      <td>2.48500</td>\n",
              "    </tr>\n",
              "    <tr>\n",
              "      <th>std</th>\n",
              "      <td>0.466087</td>\n",
              "      <td>115.516536</td>\n",
              "      <td>0.380567</td>\n",
              "      <td>0.94446</td>\n",
              "    </tr>\n",
              "    <tr>\n",
              "      <th>min</th>\n",
              "      <td>0.000000</td>\n",
              "      <td>220.000000</td>\n",
              "      <td>2.260000</td>\n",
              "      <td>1.00000</td>\n",
              "    </tr>\n",
              "    <tr>\n",
              "      <th>25%</th>\n",
              "      <td>0.000000</td>\n",
              "      <td>520.000000</td>\n",
              "      <td>3.130000</td>\n",
              "      <td>2.00000</td>\n",
              "    </tr>\n",
              "    <tr>\n",
              "      <th>50%</th>\n",
              "      <td>0.000000</td>\n",
              "      <td>580.000000</td>\n",
              "      <td>3.395000</td>\n",
              "      <td>2.00000</td>\n",
              "    </tr>\n",
              "    <tr>\n",
              "      <th>75%</th>\n",
              "      <td>1.000000</td>\n",
              "      <td>660.000000</td>\n",
              "      <td>3.670000</td>\n",
              "      <td>3.00000</td>\n",
              "    </tr>\n",
              "    <tr>\n",
              "      <th>max</th>\n",
              "      <td>1.000000</td>\n",
              "      <td>800.000000</td>\n",
              "      <td>4.000000</td>\n",
              "      <td>4.00000</td>\n",
              "    </tr>\n",
              "  </tbody>\n",
              "</table>\n",
              "</div>\n",
              "      <button class=\"colab-df-convert\" onclick=\"convertToInteractive('df-b24afa53-e5b5-4231-9f89-5a425016b962')\"\n",
              "              title=\"Convert this dataframe to an interactive table.\"\n",
              "              style=\"display:none;\">\n",
              "        \n",
              "  <svg xmlns=\"http://www.w3.org/2000/svg\" height=\"24px\"viewBox=\"0 0 24 24\"\n",
              "       width=\"24px\">\n",
              "    <path d=\"M0 0h24v24H0V0z\" fill=\"none\"/>\n",
              "    <path d=\"M18.56 5.44l.94 2.06.94-2.06 2.06-.94-2.06-.94-.94-2.06-.94 2.06-2.06.94zm-11 1L8.5 8.5l.94-2.06 2.06-.94-2.06-.94L8.5 2.5l-.94 2.06-2.06.94zm10 10l.94 2.06.94-2.06 2.06-.94-2.06-.94-.94-2.06-.94 2.06-2.06.94z\"/><path d=\"M17.41 7.96l-1.37-1.37c-.4-.4-.92-.59-1.43-.59-.52 0-1.04.2-1.43.59L10.3 9.45l-7.72 7.72c-.78.78-.78 2.05 0 2.83L4 21.41c.39.39.9.59 1.41.59.51 0 1.02-.2 1.41-.59l7.78-7.78 2.81-2.81c.8-.78.8-2.07 0-2.86zM5.41 20L4 18.59l7.72-7.72 1.47 1.35L5.41 20z\"/>\n",
              "  </svg>\n",
              "      </button>\n",
              "      \n",
              "  <style>\n",
              "    .colab-df-container {\n",
              "      display:flex;\n",
              "      flex-wrap:wrap;\n",
              "      gap: 12px;\n",
              "    }\n",
              "\n",
              "    .colab-df-convert {\n",
              "      background-color: #E8F0FE;\n",
              "      border: none;\n",
              "      border-radius: 50%;\n",
              "      cursor: pointer;\n",
              "      display: none;\n",
              "      fill: #1967D2;\n",
              "      height: 32px;\n",
              "      padding: 0 0 0 0;\n",
              "      width: 32px;\n",
              "    }\n",
              "\n",
              "    .colab-df-convert:hover {\n",
              "      background-color: #E2EBFA;\n",
              "      box-shadow: 0px 1px 2px rgba(60, 64, 67, 0.3), 0px 1px 3px 1px rgba(60, 64, 67, 0.15);\n",
              "      fill: #174EA6;\n",
              "    }\n",
              "\n",
              "    [theme=dark] .colab-df-convert {\n",
              "      background-color: #3B4455;\n",
              "      fill: #D2E3FC;\n",
              "    }\n",
              "\n",
              "    [theme=dark] .colab-df-convert:hover {\n",
              "      background-color: #434B5C;\n",
              "      box-shadow: 0px 1px 3px 1px rgba(0, 0, 0, 0.15);\n",
              "      filter: drop-shadow(0px 1px 2px rgba(0, 0, 0, 0.3));\n",
              "      fill: #FFFFFF;\n",
              "    }\n",
              "  </style>\n",
              "\n",
              "      <script>\n",
              "        const buttonEl =\n",
              "          document.querySelector('#df-b24afa53-e5b5-4231-9f89-5a425016b962 button.colab-df-convert');\n",
              "        buttonEl.style.display =\n",
              "          google.colab.kernel.accessAllowed ? 'block' : 'none';\n",
              "\n",
              "        async function convertToInteractive(key) {\n",
              "          const element = document.querySelector('#df-b24afa53-e5b5-4231-9f89-5a425016b962');\n",
              "          const dataTable =\n",
              "            await google.colab.kernel.invokeFunction('convertToInteractive',\n",
              "                                                     [key], {});\n",
              "          if (!dataTable) return;\n",
              "\n",
              "          const docLinkHtml = 'Like what you see? Visit the ' +\n",
              "            '<a target=\"_blank\" href=https://colab.research.google.com/notebooks/data_table.ipynb>data table notebook</a>'\n",
              "            + ' to learn more about interactive tables.';\n",
              "          element.innerHTML = '';\n",
              "          dataTable['output_type'] = 'display_data';\n",
              "          await google.colab.output.renderOutput(dataTable, element);\n",
              "          const docLink = document.createElement('div');\n",
              "          docLink.innerHTML = docLinkHtml;\n",
              "          element.appendChild(docLink);\n",
              "        }\n",
              "      </script>\n",
              "    </div>\n",
              "  </div>\n",
              "  "
            ]
          },
          "metadata": {},
          "execution_count": 33
        }
      ]
    },
    {
      "cell_type": "markdown",
      "source": [
        "Based on this dataset, there are 400 rows and 4 columns. According to the means, approximately 32% are admitted, GRE average is 587, GPA is 3.39, and the average prestige ranking is about 2.5 (lower is better). "
      ],
      "metadata": {
        "id": "Q3PvFs6QUlSp"
      }
    },
    {
      "cell_type": "code",
      "source": [
        "#import scikit-learn modules for logit and splitting data\n",
        "from sklearn.linear_model import LogisticRegression\n",
        "from sklearn.model_selection import train_test_split\n",
        "import seaborn as sns\n",
        "from sklearn import metrics"
      ],
      "metadata": {
        "id": "0bUxZBqAUNMv"
      },
      "execution_count": null,
      "outputs": []
    },
    {
      "cell_type": "code",
      "source": [
        "#Create feature matrix and target vector\n",
        "X_grad = grad_df.drop('admit',axis=1)\n",
        "X_grad.shape"
      ],
      "metadata": {
        "colab": {
          "base_uri": "https://localhost:8080/"
        },
        "id": "gEAvUpHRXEka",
        "outputId": "3cf37709-273d-435e-9b27-e2ccfb60b4e3"
      },
      "execution_count": null,
      "outputs": [
        {
          "output_type": "execute_result",
          "data": {
            "text/plain": [
              "(400, 3)"
            ]
          },
          "metadata": {},
          "execution_count": 38
        }
      ]
    },
    {
      "cell_type": "code",
      "source": [
        "y_grad = grad_df['admit']\n",
        "y_grad.shape"
      ],
      "metadata": {
        "colab": {
          "base_uri": "https://localhost:8080/"
        },
        "id": "igOjmgVJYnwC",
        "outputId": "5bf25f51-dfb3-4fa7-ab3c-7951f21fcbc9"
      },
      "execution_count": null,
      "outputs": [
        {
          "output_type": "execute_result",
          "data": {
            "text/plain": [
              "(400,)"
            ]
          },
          "metadata": {},
          "execution_count": 39
        }
      ]
    },
    {
      "cell_type": "code",
      "source": [
        "#split data in training and testing\n",
        "X_train, X_test, y_train, y_test = train_test_split(\n",
        "    X_grad, y_grad, test_size=0.2, random_state=0)"
      ],
      "metadata": {
        "id": "Vk6qw-v_YwyO"
      },
      "execution_count": null,
      "outputs": []
    },
    {
      "cell_type": "code",
      "source": [
        "print(X_train.shape)\n",
        "print(X_test.shape)\n",
        "print(y_train.shape)\n",
        "print(y_test.shape)"
      ],
      "metadata": {
        "colab": {
          "base_uri": "https://localhost:8080/"
        },
        "id": "bLJ2sVb9ZVME",
        "outputId": "7f89a11d-bb63-45f7-d2eb-05e85f75d2f7"
      },
      "execution_count": null,
      "outputs": [
        {
          "output_type": "stream",
          "name": "stdout",
          "text": [
            "(320, 3)\n",
            "(80, 3)\n",
            "(320,)\n",
            "(80,)\n"
          ]
        }
      ]
    },
    {
      "cell_type": "code",
      "source": [
        "#define and fit model \n",
        "logit = LogisticRegression()\n",
        "logit.fit(X_train, y_train)"
      ],
      "metadata": {
        "colab": {
          "base_uri": "https://localhost:8080/"
        },
        "id": "iYU3CaFlZYSj",
        "outputId": "f3f0b550-386a-4418-eb88-d6cf5846aca8"
      },
      "execution_count": null,
      "outputs": [
        {
          "output_type": "execute_result",
          "data": {
            "text/plain": [
              "LogisticRegression()"
            ]
          },
          "metadata": {},
          "execution_count": 44
        }
      ]
    },
    {
      "cell_type": "code",
      "source": [
        "#Make predictions on train set using fitted model\n",
        "predictions = logit.predict(X_train)"
      ],
      "metadata": {
        "id": "NAydw-YIait5"
      },
      "execution_count": null,
      "outputs": []
    },
    {
      "cell_type": "code",
      "source": [
        "#Determine score of model accuracy\n",
        "acc_score = metrics.accuracy_score(y_train, predictions)"
      ],
      "metadata": {
        "id": "DVWmck8vbXuv"
      },
      "execution_count": null,
      "outputs": []
    },
    {
      "cell_type": "code",
      "source": [
        "#Precision score\n",
        "precision = metrics.precision_score(y_train, predictions)"
      ],
      "metadata": {
        "id": "81xKYmusoSdl"
      },
      "execution_count": null,
      "outputs": []
    },
    {
      "cell_type": "code",
      "source": [
        "#Recall score\n",
        "recall = metrics.recall_score(y_train, predictions)"
      ],
      "metadata": {
        "id": "09PqP2uyoVn7"
      },
      "execution_count": null,
      "outputs": []
    },
    {
      "cell_type": "code",
      "source": [
        "#F1 score\n",
        "f1 = metrics.f1_score(y_train, predictions)"
      ],
      "metadata": {
        "id": "AH0cDvJ6oYwb"
      },
      "execution_count": null,
      "outputs": []
    },
    {
      "cell_type": "code",
      "source": [
        "#Develop confusion matrix\n",
        "confusion_matrix = metrics.confusion_matrix(y_train, predictions)\n",
        "confusion_matrix"
      ],
      "metadata": {
        "id": "jeGu5zPNcXg_",
        "colab": {
          "base_uri": "https://localhost:8080/"
        },
        "outputId": "edafce9b-72b2-4ad6-dd3f-3b1007fd79bb"
      },
      "execution_count": null,
      "outputs": [
        {
          "output_type": "execute_result",
          "data": {
            "text/plain": [
              "array([[203,  15],\n",
              "       [ 78,  24]])"
            ]
          },
          "metadata": {},
          "execution_count": 73
        }
      ]
    },
    {
      "cell_type": "code",
      "source": [
        "print('Accuracy score: ' + str(accuracy_score))\n",
        "print('Precision score: ' + str(precision))\n",
        "print('Recall score: ' + str(recall))\n",
        "print('F1 score: ' + str(f1))"
      ],
      "metadata": {
        "colab": {
          "base_uri": "https://localhost:8080/"
        },
        "id": "aN4aUe82cTzv",
        "outputId": "9ec99b32-8e05-4e27-ae99-74e025eb9b1f"
      },
      "execution_count": null,
      "outputs": [
        {
          "output_type": "stream",
          "name": "stdout",
          "text": [
            "Accuracy score: 0.709375\n",
            "Precision score: 0.6153846153846154\n",
            "Recall score: 0.23529411764705882\n",
            "F1 score: 0.3404255319148936\n"
          ]
        }
      ]
    },
    {
      "cell_type": "markdown",
      "source": [
        "Based on the above results, the logistic regression model does not have strong predictive performance. For each score calculated, a higher number closer to 1 would provide better results. Although the model is able to accurately predict about 7 in 10 admit/no-admits, this accuracy is largely found in the True Negative (Top left) quadrant of the confusion matrix. Given that only about 32% of applicants are admitted, the model could have achieved this accuracy simply by putting 100% of applicants into this quadrant. Since Precision, Recall, and F1 are also quite low, this suggests that the model has difficulty predicting True Positive cases, or students that should be admitted according to the admissions committee. "
      ],
      "metadata": {
        "id": "e1nNG0SUgA5u"
      }
    },
    {
      "cell_type": "code",
      "source": [
        "#make predictions on test set using fitted model\n",
        "y_preds = logit.predict(X_test)\n",
        "test_accuracy = metrics.accuracy_score(y_test, y_preds)\n",
        "print('Accuracy score of test predictions: ' + str(test_accuracy))"
      ],
      "metadata": {
        "id": "V-skiuhqfAfJ",
        "colab": {
          "base_uri": "https://localhost:8080/"
        },
        "outputId": "73382636-9a9e-401e-dc94-52641403d15d"
      },
      "execution_count": null,
      "outputs": [
        {
          "output_type": "stream",
          "name": "stdout",
          "text": [
            "Accuracy score of test predictions: 0.725\n"
          ]
        }
      ]
    },
    {
      "cell_type": "code",
      "source": [
        ""
      ],
      "metadata": {
        "id": "Vakk1Epb0NU6"
      },
      "execution_count": null,
      "outputs": []
    }
  ],
  "metadata": {
    "colab": {
      "name": "P1_P2_Mathews_Tyler_FinalProject",
      "provenance": [],
      "collapsed_sections": [],
      "include_colab_link": true
    },
    "kernelspec": {
      "display_name": "Python 3",
      "name": "python3"
    }
  },
  "nbformat": 4,
  "nbformat_minor": 0
}
